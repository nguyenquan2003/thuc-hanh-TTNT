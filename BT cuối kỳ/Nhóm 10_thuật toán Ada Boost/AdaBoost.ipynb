{
  "cells": [
    {
      "cell_type": "code",
      "source": [
        "import numpy as np\n",
        "import matplotlib.pyplot as plt\n",
        "import matplotlib as mpl\n",
        "from typing import Optional\n",
        "import pandas as pd\n",
        "\n",
        "from sklearn.tree import DecisionTreeClassifier\n",
        "from sklearn.ensemble import AdaBoostClassifier\n",
        "from sklearn.metrics import confusion_matrix, accuracy_score, f1_score, recall_score\n",
        "from sklearn.metrics import classification_report, log_loss\n",
        "import warnings\n",
        "warnings.filterwarnings('ignore')\n",
        "\n",
        "#Xây dựng model\n",
        "def check(y):\n",
        "    assert set(y) == {-1,1}\n",
        "    return y\n",
        "\n",
        "#Khởi tạo các biến\n",
        "def init_model(iters, X):\n",
        "    n = X.shape[0]\n",
        "    sample_weights = np.zeros((iters, n))\n",
        "    stumps = np.zeros(iters, dtype= object)\n",
        "    stump_weights = np.zeros(iters)\n",
        "    errors = np.zeros(iters)\n",
        "    return stumps, stump_weights, sample_weights, errors\n",
        "\n",
        "#Triển khai mô hinh\n",
        "def AdaBoostClf(X, y, iters= 10):\n",
        "    n = X.shape[0]\n",
        "    y = check(y)\n",
        "    stumps, stump_weights, sample_weights, errors = init_model(iters= iters, X= X)\n",
        "    sample_weights[0] = np.ones(shape= n) / n\n",
        "\n",
        "    for i in range(iters):\n",
        "        current_sew = sample_weights[i]\n",
        "        stump = DecisionTreeClassifier(max_depth= 1, max_leaf_nodes= 2)\n",
        "        stump = stump.fit(X, y, sample_weight= current_sew)\n",
        "\n",
        "        stump_pred = stump.predict(X)\n",
        "        error = current_sew[stump_pred != y].sum()\n",
        "        stump_weight = np.log((1 - error) / error) / 2\n",
        "\n",
        "        new_sew = current_sew * np.exp(-1 * stump_weight * y * stump_pred)\n",
        "        new_sew = new_sew / new_sew.sum()\n",
        "\n",
        "        if (i + 1) < iters:\n",
        "            sample_weights[i+1] = new_sew\n",
        "\n",
        "        errors[i] = error\n",
        "        stumps[i] = stump\n",
        "        stump_weights[i] = stump_weight\n",
        "    return stumps, stump_weights, sample_weights\n",
        "\n",
        "#Dự đoán\n",
        "def predict(X, stumps, stump_weights):\n",
        "    stump_preds = np.array([stump.predict(X) for stump in stumps])\n",
        "    return np.sign(np.dot(stump_weights, stump_preds))"
      ],
      "metadata": {
        "id": "J9SiHSKao8OR"
      },
      "execution_count": null,
      "outputs": []
    },
    {
      "cell_type": "code",
      "source": [
        "from sklearn.datasets import make_gaussian_quantiles\n",
        "\n",
        "def make_dataset(n: int = 100, random_seed: int = None):\n",
        "    n_per_class = int(n/2)\n",
        "    if random_seed:\n",
        "        np.random.seed(random_seed)\n",
        "    X, y = make_gaussian_quantiles(n_samples=30, n_features=2, n_classes=2, random_state=10)\n",
        "    return X, y*2-1\n",
        "\n",
        "X, y = make_dataset(n=30, random_seed=10)\n",
        "def plot_adaboost(X: np.ndarray,\n",
        "                  y: np.ndarray,\n",
        "                  stumps= None, stump_weights= None, roll = 0,\n",
        "                  clf= None,\n",
        "                  sample_weights: Optional[np.ndarray] = None,\n",
        "                  ax: Optional[mpl.axes.Axes] = None):\n",
        "\n",
        "    y = check(y) # Kì vọng nhãn bằng ±1\n",
        "\n",
        "    if not ax:\n",
        "        fig, ax = plt.subplots(figsize=(5, 5), dpi=100)\n",
        "        fig.set_facecolor('white')\n",
        "\n",
        "    pad = 1\n",
        "    x_min, x_max = X[:, 0].min() - pad, X[:, 0].max() + pad\n",
        "    y_min, y_max = X[:, 1].min() - pad, X[:, 1].max() + pad\n",
        "\n",
        "    if sample_weights is not None:\n",
        "        sizes = np.array(sample_weights) * X.shape[0] * 100\n",
        "    else:\n",
        "        sizes = np.ones(shape=X.shape[0]) * 100\n",
        "\n",
        "    X_pos = X[y == 1]\n",
        "    sizes_pos = sizes[y == 1]\n",
        "    ax.scatter(*X_pos.T, s=sizes_pos, marker='+', color='red')\n",
        "\n",
        "    X_neg = X[y == -1]\n",
        "    sizes_neg = sizes[y == -1]\n",
        "    ax.scatter(*X_neg.T, s=sizes_neg, marker='.', c='blue')\n",
        "\n",
        "    if clf:\n",
        "        plot_step = 0.01\n",
        "        xx, yy = np.meshgrid(np.arange(x_min, x_max, plot_step),\n",
        "                             np.arange(y_min, y_max, plot_step))\n",
        "        Z = clf.predict(np.c_[xx.ravel(), yy.ravel()])\n",
        "        Z = Z.reshape(xx.shape)\n",
        "\n",
        "        if list(np.unique(Z)) == [1]:\n",
        "            fill_colors = ['r']\n",
        "        else:\n",
        "            fill_colors = ['b', 'r']\n",
        "\n",
        "        ax.contourf(xx, yy, Z, colors=fill_colors, alpha=0.2)\n",
        "\n",
        "    if roll:\n",
        "        plot_step = 0.01\n",
        "        xx, yy = np.meshgrid(np.arange(x_min, x_max, plot_step),\n",
        "                             np.arange(y_min, y_max, plot_step))\n",
        "\n",
        "        Z = predict(np.c_[xx.ravel(), yy.ravel()], stumps, stump_weights)\n",
        "        Z = Z.reshape(xx.shape)\n",
        "\n",
        "        if list(np.unique(Z)) == [1]:\n",
        "            fill_colors = ['r']\n",
        "        else:\n",
        "            fill_colors = ['b', 'r']\n",
        "\n",
        "        ax.contourf(xx, yy, Z, colors=fill_colors, alpha=0.2)\n",
        "\n",
        "    ax.set_xlim(x_min+0.5, x_max-0.5)\n",
        "    ax.set_ylim(y_min+0.5, y_max-0.5)\n",
        "    ax.set_xlabel('$x_1$')\n",
        "    ax.set_ylabel('$x_2$')\n",
        "\n",
        "plot_adaboost(X, y)\n",
        "\n"
      ],
      "metadata": {
        "id": "pm6isWZ2u9Y8"
      },
      "execution_count": null,
      "outputs": []
    },
    {
      "cell_type": "code",
      "source": [
        "#Test (kiểm thử)\n",
        "#datasets titanic\n",
        "titanic = pd.read_csv('titanic.csv')\n",
        "titanic.fillna(titanic['Age'].mean(), inplace=True)\n",
        "titanic.replace({'Sex':{'male':0, 'female':1}}, inplace=True)\n",
        "titanic['FamilySize'] = titanic['SibSp'] + titanic['Parch'] + 1\n",
        "titanic.drop(columns=['PassengerId', 'Name', 'SibSp', 'Parch', 'Ticket', 'Fare', 'Cabin', 'Embarked'], inplace=True)\n",
        "titanic.head()"
      ],
      "metadata": {
        "id": "XApSWIh7rIkR"
      },
      "execution_count": null,
      "outputs": []
    },
    {
      "cell_type": "code",
      "source": [
        "#chia dữ liệu làm 2 phần train và val\n",
        "from sklearn.model_selection import train_test_split\n",
        "X = titanic[['Pclass', 'Sex', 'Age', 'FamilySize']].values\n",
        "y = titanic[['Survived']].values\n",
        "y[y == 0] = -1    # y must be {+1, -1}\n",
        "X_train, X_val, y_train, y_val = train_test_split(X, y, test_size=0.2, random_state=102)\n",
        "print('Training set:', X_train.shape, y_train.shape)\n",
        "print('Val set:', X_val.shape, y_val.shape)"
      ],
      "metadata": {
        "id": "fpKJS8t5sckp"
      },
      "execution_count": null,
      "outputs": []
    },
    {
      "cell_type": "code",
      "source": [
        "# Training\n",
        "stumps1, stump_weights1, sample_weights1 = AdaBoostClf(X= X_train, y= y_train.reshape(-1), iters= 10)\n",
        "predt = predict(X_val, stumps1, stump_weights1)\n",
        "\n",
        "#In kết quả\n",
        "print(\"Accuracy score: %f\" % accuracy_score(y_val, predt))\n",
        "print(\"Confusion Matrix:\")\n",
        "print(confusion_matrix(y_val, predt))\n",
        "print(classification_report(y_val, predt))\n",
        "print('Log loss:', log_loss(y_val, predt)/len(y_val))"
      ],
      "metadata": {
        "id": "h_LRpWdhse8S"
      },
      "execution_count": null,
      "outputs": []
    },
    {
      "cell_type": "code",
      "source": [
        "import joblib\n",
        "# Lưu mô hình\n",
        "joblib.dump((stumps1, stump_weights1, sample_weights1), 'adaboost_model.joblib')\n",
        "\n",
        "# Đọc mô hình\n",
        "loaded_stumps, loaded_stump_weights, loaded_sample_weights = joblib.load('adaboost_model.joblib')\n",
        "\n",
        "# Sử dụng mô hình đã đọc để dự đoán\n",
        "loaded_predt = predict(X_val, loaded_stumps, loaded_stump_weights)"
      ],
      "metadata": {
        "id": "SDKC3AN6srnm"
      },
      "execution_count": 9,
      "outputs": []
    }
  ],
  "metadata": {
    "colab": {
      "provenance": []
    },
    "kernelspec": {
      "display_name": "Python 3",
      "name": "python3"
    },
    "language_info": {
      "name": "python"
    }
  },
  "nbformat": 4,
  "nbformat_minor": 0
}